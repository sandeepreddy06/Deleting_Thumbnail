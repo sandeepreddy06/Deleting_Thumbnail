{
 "cells": [
  {
   "cell_type": "code",
   "execution_count": null,
   "id": "interesting-trustee",
   "metadata": {},
   "outputs": [],
   "source": [
    "import os\n",
    "import shutil\n",
    "from itertools import chain\n",
    "from zipfile import ZipFile\n",
    "import zipfile\n",
    "\n",
    "\n",
    "def find_E_files(path):\n",
    "    x = os.listdir(path)\n",
    "    print(x)\n",
    "    for files in x:\n",
    "        if files.endswith(\".ggb\"):\n",
    "            print(files)\n",
    "            with ZipFile(path+files, 'r') as zipObj:\n",
    "                zipObj.extractall(path+\"E_\"+files+\"\\\\\")\n",
    "    print(\"---------------x Extraction Process Completed x----------------\")"
   ]
  },
  {
   "cell_type": "code",
   "execution_count": null,
   "id": "variable-bulgarian",
   "metadata": {},
   "outputs": [],
   "source": [
    "find_E_files(\"C:/Users/sandy/Documents/ggb/\")"
   ]
  },
  {
   "cell_type": "code",
   "execution_count": null,
   "id": "aboriginal-melbourne",
   "metadata": {},
   "outputs": [],
   "source": [
    "import os\n",
    "\n",
    "def del_thumb(path):\n",
    "    f=os.listdir(path)\n",
    "    for files in f:\n",
    "        if files.startswith(\"E\"):\n",
    "            z=os.listdir(path+\"/\"+files)\n",
    "            for dels in z:\n",
    "                if dels.endswith(\".png\"):\n",
    "                    os.remove(path+files+\"/\"+dels)\n",
    "            \n",
    "    print(\"---------------x Thumbnail Deletion Completed x----------------\")"
   ]
  },
  {
   "cell_type": "code",
   "execution_count": null,
   "id": "contemporary-ability",
   "metadata": {},
   "outputs": [],
   "source": [
    "del_thumb(\"C:/Users/sandy/Documents/ggb/\")"
   ]
  },
  {
   "cell_type": "code",
   "execution_count": null,
   "id": "danish-episode",
   "metadata": {},
   "outputs": [],
   "source": [
    "r=\"C:/Users/sandy/Documents/ggb/\"\n",
    "list_subfolders_with_paths = []\n",
    "def test(path):\n",
    "    for root, dirs, files in os.walk(path):\n",
    "        for dir in dirs:\n",
    "            list_subfolders_with_paths.append( os.path.join(root, dir))\n",
    "        return list_subfolders_with_paths\n",
    "    \n",
    "list_subfolders_with_paths=test(r)\n",
    "\n",
    "def make_ggbfile(output_filename, source_dir):\n",
    "    relroot = os.path.abspath(source_dir)\n",
    "    with zipfile.ZipFile(output_filename, \"w\", zipfile.ZIP_DEFLATED) as zip:\n",
    "        for root, dirs, files in os.walk(source_dir):\n",
    "            zip.write(root, os.path.relpath(root, relroot))\n",
    "            for file in files:\n",
    "                filename = os.path.join(root, file)\n",
    "                if os.path.isfile(filename):\n",
    "                    arcname = os.path.join(os.path.relpath(root, relroot), file)\n",
    "                    zip.write(filename, arcname)\n",
    "\n",
    "\n",
    "for x in list_subfolders_with_paths:\n",
    "    make_ggbfile(x+\"/.ggb\", x)\n",
    "\n",
    "print(\"---------------x ggb process completed x---------------\")\n"
   ]
  },
  {
   "cell_type": "code",
   "execution_count": null,
   "id": "satisfactory-bermuda",
   "metadata": {},
   "outputs": [],
   "source": []
  }
 ],
 "metadata": {
  "kernelspec": {
   "display_name": "Python 3",
   "language": "python",
   "name": "python3"
  },
  "language_info": {
   "codemirror_mode": {
    "name": "ipython",
    "version": 3
   },
   "file_extension": ".py",
   "mimetype": "text/x-python",
   "name": "python",
   "nbconvert_exporter": "python",
   "pygments_lexer": "ipython3",
   "version": "3.9.0"
  }
 },
 "nbformat": 4,
 "nbformat_minor": 5
}
